{
 "cells": [
  {
   "cell_type": "code",
   "execution_count": 1,
   "id": "bf328ded",
   "metadata": {},
   "outputs": [],
   "source": [
    "import torchmetrics\n",
    "import pandas as pd\n",
    "import matplotlib.pyplot as plt\n",
    "from sklearn.model_selection import train_test_split\n",
    "from   sklearn.preprocessing   import LabelEncoder          # кодировка категорий\n",
    "import numpy as np\n",
    "import torch\n",
    "from torch.autograd import Variable\n",
    "import torch.nn as nn \n",
    "import torch.nn.functional as F \n",
    "import torch.optim as optim"
   ]
  },
  {
   "cell_type": "code",
   "execution_count": 74,
   "id": "0c8953d7",
   "metadata": {},
   "outputs": [
    {
     "data": {
      "text/plain": [
       "'cpu'"
      ]
     },
     "execution_count": 74,
     "metadata": {},
     "output_type": "execute_result"
    }
   ],
   "source": [
    "DEVICE = \"cuda\" if torch.cuda.is_available() else \"cpu\"\n",
    "DEVICE"
   ]
  },
  {
   "cell_type": "code",
   "execution_count": 3,
   "id": "01f8b5a9",
   "metadata": {},
   "outputs": [],
   "source": [
    "final_dataset = pd.read_csv('final_dataset_homer.csv')"
   ]
  },
  {
   "cell_type": "code",
   "execution_count": 4,
   "id": "daa16270",
   "metadata": {},
   "outputs": [
    {
     "data": {
      "text/html": [
       "<div>\n",
       "<style scoped>\n",
       "    .dataframe tbody tr th:only-of-type {\n",
       "        vertical-align: middle;\n",
       "    }\n",
       "\n",
       "    .dataframe tbody tr th {\n",
       "        vertical-align: top;\n",
       "    }\n",
       "\n",
       "    .dataframe thead th {\n",
       "        text-align: right;\n",
       "    }\n",
       "</style>\n",
       "<table border=\"1\" class=\"dataframe\">\n",
       "  <thead>\n",
       "    <tr style=\"text-align: right;\">\n",
       "      <th></th>\n",
       "      <th>Unnamed: 0</th>\n",
       "      <th>A</th>\n",
       "      <th>Q</th>\n",
       "      <th>Context</th>\n",
       "      <th>len_Context</th>\n",
       "      <th>label</th>\n",
       "    </tr>\n",
       "  </thead>\n",
       "  <tbody>\n",
       "    <tr>\n",
       "      <th>0</th>\n",
       "      <td>3</td>\n",
       "      <td>Me?</td>\n",
       "      <td>I'm glad I'm not crying because I would hate f...</td>\n",
       "      <td>Mr. Bergstrom left today. He's gone. Forever. ...</td>\n",
       "      <td>4.0</td>\n",
       "      <td>1.0</td>\n",
       "    </tr>\n",
       "    <tr>\n",
       "      <th>1</th>\n",
       "      <td>4</td>\n",
       "      <td>I don't think you realize what you're saying.</td>\n",
       "      <td>Yes, you! Baboon, baboon, baboon, baboon!</td>\n",
       "      <td>He's gone. Forever. I didn't think you'd under...</td>\n",
       "      <td>4.0</td>\n",
       "      <td>1.0</td>\n",
       "    </tr>\n",
       "    <tr>\n",
       "      <th>2</th>\n",
       "      <td>5</td>\n",
       "      <td>Did you hear that, Marge? She called me a babo...</td>\n",
       "      <td>Whoa, somebody was bound to say it one day. I ...</td>\n",
       "      <td>I didn't think you'd understand. I'm glad I'm ...</td>\n",
       "      <td>4.0</td>\n",
       "      <td>1.0</td>\n",
       "    </tr>\n",
       "  </tbody>\n",
       "</table>\n",
       "</div>"
      ],
      "text/plain": [
       "   Unnamed: 0                                                  A  \\\n",
       "0           3                                                Me?   \n",
       "1           4      I don't think you realize what you're saying.   \n",
       "2           5  Did you hear that, Marge? She called me a babo...   \n",
       "\n",
       "                                                   Q  \\\n",
       "0  I'm glad I'm not crying because I would hate f...   \n",
       "1          Yes, you! Baboon, baboon, baboon, baboon!   \n",
       "2  Whoa, somebody was bound to say it one day. I ...   \n",
       "\n",
       "                                             Context  len_Context  label  \n",
       "0  Mr. Bergstrom left today. He's gone. Forever. ...          4.0    1.0  \n",
       "1  He's gone. Forever. I didn't think you'd under...          4.0    1.0  \n",
       "2  I didn't think you'd understand. I'm glad I'm ...          4.0    1.0  "
      ]
     },
     "execution_count": 4,
     "metadata": {},
     "output_type": "execute_result"
    }
   ],
   "source": [
    "final_dataset.head(3)"
   ]
  },
  {
   "cell_type": "code",
   "execution_count": 116,
   "id": "a670d84e",
   "metadata": {},
   "outputs": [],
   "source": [
    "# Соберем все ответы из базы\n",
    "base_answers = final_dataset['A']\n",
    "all_answers = list(set(base_answers)) # Список всех ответов из базы"
   ]
  },
  {
   "cell_type": "code",
   "execution_count": 117,
   "id": "da827e60",
   "metadata": {},
   "outputs": [
    {
     "data": {
      "text/plain": [
       "\"Dad! That information is all wrong! Maggie's a baby, not my best friend! You don't know anything about me!\""
      ]
     },
     "execution_count": 117,
     "metadata": {},
     "output_type": "execute_result"
    }
   ],
   "source": [
    "all_answers[1]"
   ]
  },
  {
   "cell_type": "code",
   "execution_count": 30,
   "id": "6332267a",
   "metadata": {},
   "outputs": [],
   "source": [
    "from typing import Callable, Iterable\n",
    "\n",
    "import torch\n",
    "from torch.utils.data import Dataset, DataLoader, random_split\n",
    "from transformers import AutoTokenizer, AutoModel\n",
    "from transformers.optimization import get_linear_schedule_with_warmup\n",
    "from scipy import stats\n",
    "from sklearn.metrics.pairwise import cosine_similarity"
   ]
  },
  {
   "cell_type": "code",
   "execution_count": 31,
   "id": "a7315b02",
   "metadata": {},
   "outputs": [
    {
     "data": {
      "text/plain": [
       "DistilBertModel(\n",
       "  (embeddings): Embeddings(\n",
       "    (word_embeddings): Embedding(30522, 768, padding_idx=0)\n",
       "    (position_embeddings): Embedding(512, 768)\n",
       "    (LayerNorm): LayerNorm((768,), eps=1e-12, elementwise_affine=True)\n",
       "    (dropout): Dropout(p=0.1, inplace=False)\n",
       "  )\n",
       "  (transformer): Transformer(\n",
       "    (layer): ModuleList(\n",
       "      (0-5): 6 x TransformerBlock(\n",
       "        (attention): MultiHeadSelfAttention(\n",
       "          (dropout): Dropout(p=0.1, inplace=False)\n",
       "          (q_lin): Linear(in_features=768, out_features=768, bias=True)\n",
       "          (k_lin): Linear(in_features=768, out_features=768, bias=True)\n",
       "          (v_lin): Linear(in_features=768, out_features=768, bias=True)\n",
       "          (out_lin): Linear(in_features=768, out_features=768, bias=True)\n",
       "        )\n",
       "        (sa_layer_norm): LayerNorm((768,), eps=1e-12, elementwise_affine=True)\n",
       "        (ffn): FFN(\n",
       "          (dropout): Dropout(p=0.1, inplace=False)\n",
       "          (lin1): Linear(in_features=768, out_features=3072, bias=True)\n",
       "          (lin2): Linear(in_features=3072, out_features=768, bias=True)\n",
       "          (activation): GELUActivation()\n",
       "        )\n",
       "        (output_layer_norm): LayerNorm((768,), eps=1e-12, elementwise_affine=True)\n",
       "      )\n",
       "    )\n",
       "  )\n",
       ")"
      ]
     },
     "execution_count": 31,
     "metadata": {},
     "output_type": "execute_result"
    }
   ],
   "source": [
    "tokenizer = AutoTokenizer.from_pretrained(\"distilbert-base-uncased\")\n",
    "bert_model = AutoModel.from_pretrained(\"distilbert-base-uncased\")\n",
    "bert_model.from_pretrained(\"bi_encoder_homer\")"
   ]
  },
  {
   "cell_type": "code",
   "execution_count": 32,
   "id": "644f7921",
   "metadata": {},
   "outputs": [],
   "source": [
    "dataset = pd.DataFrame({\n",
    "    \"sentence1\": final_dataset[\"A\"],  # Создание поля \"предложение 1\" на основе данных из поля \"А\"\n",
    "    \"sentence2\": final_dataset[\"Q\"],  # Создание поля \"предложение 2\" на основе данных из поля \"Б\"\n",
    "    \"label\": final_dataset[\"label\"]     # Создание поля \"метка 2\" на основе данных из поля \"метка\"\n",
    "})"
   ]
  },
  {
   "cell_type": "code",
   "execution_count": 61,
   "id": "8de0fd29",
   "metadata": {},
   "outputs": [],
   "source": [
    "tokenized_texts = tokenizer(dataset[\"sentence1\"].tolist(), \n",
    "                            dataset[\"sentence2\"].tolist(), \n",
    "                            max_length=MAX_LENGTH, padding=\"max_length\",\n",
    "                            truncation=True, verbose=True)"
   ]
  },
  {
   "cell_type": "code",
   "execution_count": 64,
   "id": "2ac9d02b",
   "metadata": {},
   "outputs": [],
   "source": [
    "class StsDataset(Dataset):\n",
    "    def __init__(self, tokens: dict, labels: list[float]):\n",
    "        self.tokens = tokens\n",
    "        self.labels = labels\n",
    "\n",
    "    def __getitem__(self, ix: int) -> dict[str, torch.tensor]:\n",
    "        return {\n",
    "            \"input_ids\": torch.tensor(self.tokens[\"input_ids\"][ix], dtype=torch.long),\n",
    "            \"attention_mask\": torch.tensor(self.tokens[\"attention_mask\"][ix], dtype=torch.long),\n",
    "            \"labels\": torch.tensor(self.labels[ix], dtype=torch.float)  # Use float for regression\n",
    "        }\n",
    "\n",
    "    def __len__(self) -> int:\n",
    "        return len(self.tokens[\"input_ids\"])"
   ]
  },
  {
   "cell_type": "code",
   "execution_count": 65,
   "id": "af52a878",
   "metadata": {},
   "outputs": [
    {
     "name": "stdout",
     "output_type": "stream",
     "text": [
      "CPU times: total: 0 ns\n",
      "Wall time: 1 ms\n"
     ]
    }
   ],
   "source": [
    "%%time\n",
    "\n",
    "sts_dataset = StsDataset(tokenized_texts, dataset[\"label\"].tolist())"
   ]
  },
  {
   "cell_type": "code",
   "execution_count": 70,
   "id": "1bc3d18b",
   "metadata": {},
   "outputs": [],
   "source": [
    "train_ratio = 0.9\n",
    "n_total = len(sts_dataset)\n",
    "n_train = int(n_total * train_ratio)\n",
    "n_val = n_total - n_train\n",
    "\n",
    "train_dataset, val_dataset = random_split(sts_dataset, [n_train, n_val])\n",
    "\n",
    "batch_size = 16  # mentioned in the paper\n",
    "train_dataloader = DataLoader(train_dataset, batch_size=batch_size, shuffle=True)\n",
    "val_dataloader = DataLoader(val_dataset, batch_size=batch_size, shuffle=False)"
   ]
  },
  {
   "cell_type": "code",
   "execution_count": 71,
   "id": "0a5c5a2e",
   "metadata": {},
   "outputs": [
    {
     "data": {
      "text/plain": [
       "(368, 41)"
      ]
     },
     "execution_count": 71,
     "metadata": {},
     "output_type": "execute_result"
    }
   ],
   "source": [
    "len(train_dataloader), len(val_dataloader)"
   ]
  },
  {
   "cell_type": "code",
   "execution_count": 72,
   "id": "8dabd837",
   "metadata": {},
   "outputs": [],
   "source": [
    "class CrossEncoderBert(torch.nn.Module):\n",
    "    def __init__(self, max_length: int = MAX_LENGTH):\n",
    "        super().__init__()\n",
    "        self.max_length = max_length\n",
    "        self.bert_model = AutoModel.from_pretrained('distilbert-base-uncased')\n",
    "        self.bert_tokenizer = AutoTokenizer.from_pretrained('distilbert-base-uncased')\n",
    "        self.linear = torch.nn.Linear(self.bert_model.config.hidden_size, 1)\n",
    "\n",
    "    def forward(self, input_ids, attention_mask):\n",
    "        outputs = self.bert_model(input_ids=input_ids, attention_mask=attention_mask)\n",
    "        pooled_output = outputs.last_hidden_state[:, 0]  # Use the CLS token's output\n",
    "        return self.linear(pooled_output)"
   ]
  },
  {
   "cell_type": "code",
   "execution_count": 75,
   "id": "1e09c4f0",
   "metadata": {},
   "outputs": [],
   "source": [
    "model = CrossEncoderBert().to(DEVICE)"
   ]
  },
  {
   "cell_type": "code",
   "execution_count": 76,
   "id": "e1cf561e",
   "metadata": {},
   "outputs": [],
   "source": [
    "#  optimizer, lr, num_warmup steps have been picked from the paper\n",
    "optimizer = torch.optim.AdamW(model.parameters(), lr=3e-5)\n",
    "total_steps = len(train_dataset) // batch_size\n",
    "warmup_steps = int(0.1 * total_steps)\n",
    "scheduler = get_linear_schedule_with_warmup(optimizer, num_warmup_steps=warmup_steps,\n",
    "                                            num_training_steps=total_steps - warmup_steps)\n",
    "\n",
    "loss_fn = torch.nn.MSELoss()"
   ]
  },
  {
   "cell_type": "code",
   "execution_count": 77,
   "id": "e286b3d6",
   "metadata": {},
   "outputs": [],
   "source": [
    "#  optimizer, lr, num_warmup steps have been picked from the paper\n",
    "optimizer = torch.optim.AdamW(model.parameters(), lr=3e-5)\n",
    "total_steps = len(train_dataset) // batch_size\n",
    "warmup_steps = int(0.1 * total_steps)\n",
    "scheduler = get_linear_schedule_with_warmup(optimizer, num_warmup_steps=warmup_steps,\n",
    "                                            num_training_steps=total_steps - warmup_steps)\n",
    "\n",
    "loss_fn = torch.nn.MSELoss()"
   ]
  },
  {
   "cell_type": "code",
   "execution_count": 78,
   "id": "516c1519",
   "metadata": {},
   "outputs": [],
   "source": [
    "def train_step_fn(model, optimizer, scheduler, loss_fn, batch):\n",
    "    model.train()\n",
    "    input_ids = batch['input_ids'].to(DEVICE)\n",
    "    attention_mask = batch['attention_mask'].to(DEVICE)\n",
    "    labels = batch['labels'].to(DEVICE)\n",
    "    optimizer.zero_grad()\n",
    "    logits = model(input_ids, attention_mask)\n",
    "    loss = loss_fn(logits.squeeze(-1), labels)\n",
    "    loss.backward()\n",
    "    optimizer.step()\n",
    "    scheduler.step()\n",
    "    return loss.item()\n",
    "\n",
    "def val_step_fn(model, loss_fn, batch):\n",
    "    model.eval()\n",
    "    input_ids = batch['input_ids'].to(DEVICE)\n",
    "    attention_mask = batch['attention_mask'].to(DEVICE)\n",
    "    labels = batch['labels'].to(DEVICE)\n",
    "    with torch.no_grad():\n",
    "        logits = model(input_ids, attention_mask)\n",
    "    loss = loss_fn(logits.squeeze(-1), labels)\n",
    "    return loss.item()\n",
    "\n",
    "def mini_batch(dataloader, step_fn, is_training=True):\n",
    "    mini_batch_losses = []\n",
    "    for i, batch in enumerate(dataloader):\n",
    "        if is_training:\n",
    "            loss = step_fn(model, optimizer, scheduler, loss_fn, batch)\n",
    "        else:\n",
    "            loss = step_fn(model, loss_fn, batch)\n",
    "        mini_batch_losses.append(loss)\n",
    "        if i % (batch_size * 4) == 0:\n",
    "            print(f\"Step {i:>5}/{len(dataloader)}, Loss = {loss:.3f}\")\n",
    "    return np.mean(mini_batch_losses), mini_batch_losses"
   ]
  },
  {
   "cell_type": "code",
   "execution_count": 79,
   "id": "d039e285",
   "metadata": {},
   "outputs": [
    {
     "name": "stdout",
     "output_type": "stream",
     "text": [
      "\n",
      "Epoch 1\n",
      "Step     0/368, Loss = 0.858\n",
      "Step    64/368, Loss = 0.215\n",
      "Step   128/368, Loss = 0.092\n",
      "Step   192/368, Loss = 0.194\n",
      "Step   256/368, Loss = 0.103\n",
      "Step   320/368, Loss = 0.158\n",
      "Step     0/41, Loss = 0.083\n",
      "\n",
      "Epoch 2\n",
      "Step     0/368, Loss = 0.141\n",
      "Step    64/368, Loss = 0.132\n",
      "Step   128/368, Loss = 0.170\n",
      "Step   192/368, Loss = 0.141\n",
      "Step   256/368, Loss = 0.187\n",
      "Step   320/368, Loss = 0.109\n",
      "Step     0/41, Loss = 0.083\n",
      "\n",
      "Epoch 3\n",
      "Step     0/368, Loss = 0.088\n",
      "Step    64/368, Loss = 0.163\n",
      "Step   128/368, Loss = 0.114\n",
      "Step   192/368, Loss = 0.076\n",
      "Step   256/368, Loss = 0.164\n",
      "Step   320/368, Loss = 0.168\n",
      "Step     0/41, Loss = 0.083\n",
      "\n",
      "Epoch 4\n",
      "Step     0/368, Loss = 0.151\n",
      "Step    64/368, Loss = 0.109\n",
      "Step   128/368, Loss = 0.079\n",
      "Step   192/368, Loss = 0.221\n",
      "Step   256/368, Loss = 0.112\n",
      "Step   320/368, Loss = 0.103\n",
      "Step     0/41, Loss = 0.083\n",
      "\n",
      "Epoch 5\n",
      "Step     0/368, Loss = 0.177\n",
      "Step    64/368, Loss = 0.140\n",
      "Step   128/368, Loss = 0.207\n",
      "Step   192/368, Loss = 0.157\n",
      "Step   256/368, Loss = 0.199\n",
      "Step   320/368, Loss = 0.130\n",
      "Step     0/41, Loss = 0.083\n",
      "CPU times: total: 11h 30min\n",
      "Wall time: 3h 6min 6s\n"
     ]
    }
   ],
   "source": [
    "%%time\n",
    "\n",
    "n_epochs = 5\n",
    "\n",
    "train_losses, train_mini_batch_losses = [], []\n",
    "val_losses, val_mini_batch_losses = [], []\n",
    "\n",
    "for epoch in range(1, n_epochs + 1):\n",
    "    print(f\"\\nEpoch {epoch}\")\n",
    "    train_loss, _train_mini_batch_losses = mini_batch(train_dataloader, train_step_fn, is_training=True)\n",
    "    train_mini_batch_losses.extend(_train_mini_batch_losses)\n",
    "    train_losses.append(train_loss)\n",
    "\n",
    "    with torch.no_grad():\n",
    "        val_loss, _val_mini_batch_losses = mini_batch(val_dataloader, val_step_fn, is_training=False)\n",
    "        val_mini_batch_losses.extend(_val_mini_batch_losses)\n",
    "        val_losses.append(val_loss)"
   ]
  },
  {
   "cell_type": "code",
   "execution_count": 80,
   "id": "fb5797ad",
   "metadata": {},
   "outputs": [],
   "source": [
    "window_size = 32\n",
    "\n",
    "train_mb_running_loss = []\n",
    "for i in range(len(train_mini_batch_losses)-window_size):\n",
    "    train_mb_running_loss.append(np.mean(train_mini_batch_losses[i:i+window_size]))\n",
    "\n",
    "val_mb_running_loss = []\n",
    "for i in range(len(val_mini_batch_losses)-window_size):\n",
    "    val_mb_running_loss.append(np.mean(val_mini_batch_losses[i:i+window_size]))"
   ]
  },
  {
   "cell_type": "code",
   "execution_count": 81,
   "id": "17787192",
   "metadata": {},
   "outputs": [
    {
     "data": {
      "image/png": "[encoded data removed]",
      "text/plain": [
       "<Figure size 1400x800 with 1 Axes>"
      ]
     },
     "metadata": {},
     "output_type": "display_data"
    }
   ],
   "source": [
    "fix, ax = plt.subplots(figsize=(14, 8))\n",
    "ax.plot(range(len(train_mb_running_loss)), train_mb_running_loss);"
   ]
  },
  {
   "cell_type": "code",
   "execution_count": 126,
   "id": "3bbde2f7",
   "metadata": {},
   "outputs": [],
   "source": [
    "model.bert_model.save_pretrained(f\"cross_ecoder_homer\")"
   ]
  },
  {
   "cell_type": "code",
   "execution_count": 121,
   "id": "c0ada85d",
   "metadata": {},
   "outputs": [],
   "source": [
    "def get_answear(\n",
    "    tokenizer, finetuned_ce, base_bert, query, context, corpus,\n",
    "    size_patch=150, qty_rand_choose=4, max_out_context=200\n",
    "):\n",
    "\n",
    "    # Создаем словарь для хранения оценок и ответов\n",
    "    dic_answear = {\"score\": [], \"answer\": []}\n",
    "\n",
    "    # Объединяем запрос и контекст памяти\n",
    "    context_memory = query + \"[SEP]\" + context\n",
    "\n",
    "    # Ограничиваем количество случайно выбираемых ответов\n",
    "    if len(corpus) < qty_rand_choose * max_out_context:\n",
    "        qty_rand_choose = int(len(corpus))\n",
    "\n",
    "    # Поскольку база большая, проводим несколько выборов случайных ответов\n",
    "    for i in range(qty_rand_choose):\n",
    "        rand_patch_corpus = list(np.random.choice(corpus, size_patch))\n",
    "\n",
    "        # Токенизируем запросы и случайно выбранные ответы\n",
    "        queries = [context_memory] * len(rand_patch_corpus)\n",
    "        tokenized_texts = tokenizer(\n",
    "            queries, rand_patch_corpus, max_length=MAX_LENGTH, padding=True, truncation=True, return_tensors=\"pt\"\n",
    "        ).to(DEVICE)\n",
    "\n",
    "        # Оцениваем модель Finetuned CrossEncoder\n",
    "        with torch.no_grad():\n",
    "            ce_scores = finetuned_ce(tokenized_texts['input_ids'], tokenized_texts['attention_mask']).squeeze(-1)\n",
    "            ce_scores = torch.sigmoid(ce_scores)  # Применяем сигмоиду при необходимости\n",
    "\n",
    "        # Обрабатываем оценки для модели Finetuned\n",
    "        scores = ce_scores.cpu().numpy()\n",
    "        scores_ix = np.argsort(scores)[::-1][0]\n",
    "        dic_answear[\"score\"].append(scores[scores_ix])\n",
    "        dic_answear[\"answer\"].append(rand_patch_corpus[scores_ix])\n",
    "\n",
    "    # Находим наилучший ответ и его оценку\n",
    "    best_answer_index = np.argsort(dic_answear[\"score\"])[::-1][0]\n",
    "    best_answer = dic_answear[\"answer\"][best_answer_index]\n",
    "\n",
    "    # Обновляем контекст памяти\n",
    "    conext_memory = best_answer + \"[SEP]\" + context_memory\n",
    "    return best_answer, conext_memory[:max_out_context]"
   ]
  },
  {
   "cell_type": "code",
   "execution_count": 124,
   "id": "9bb9e325",
   "metadata": {},
   "outputs": [
    {
     "name": "stdout",
     "output_type": "stream",
     "text": [
      "Реплика: Homer, How are you?\n"
     ]
    }
   ],
   "source": [
    "question = \"Homer, How are you?\"  #\n",
    "print(f\"Реплика: {question}\")"
   ]
  },
  {
   "cell_type": "code",
   "execution_count": 125,
   "id": "3999bfc4",
   "metadata": {},
   "outputs": [
    {
     "name": "stdout",
     "output_type": "stream",
     "text": [
      "Yeah, I guess your old man is smarter than you thought. Look at 'em standing out there. No place to go. Heh, heh. Poor guys. Hey, what if we let 'em stay here for just a few days?\n"
     ]
    }
   ],
   "source": [
    "best_answer = get_answear(\n",
    "    tokenizer, model, bert_model.to(DEVICE),\n",
    "    query = question,\n",
    "    context = \"\",\n",
    "    corpus = all_answers)\n",
    "\n",
    "print(f\"{best_answer}\") "
   ]
  },
  {
   "cell_type": "code",
   "execution_count": null,
   "id": "bb33847d",
   "metadata": {},
   "outputs": [],
   "source": []
  }
 ],
 "metadata": {
  "kernelspec": {
   "display_name": "Python 3 (ipykernel)",
   "language": "python",
   "name": "python3"
  },
  "language_info": {
   "codemirror_mode": {
    "name": "ipython",
    "version": 3
   },
   "file_extension": ".py",
   "mimetype": "text/x-python",
   "name": "python",
   "nbconvert_exporter": "python",
   "pygments_lexer": "ipython3",
   "version": "3.11.5"
  }
 },
 "nbformat": 4,
 "nbformat_minor": 5
}
