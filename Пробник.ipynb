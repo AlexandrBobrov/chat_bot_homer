{
 "cells": [
  {
   "cell_type": "code",
   "execution_count": 1,
   "id": "7f3115ce",
   "metadata": {},
   "outputs": [],
   "source": [
    "import torch\n",
    "from torch.utils.data import Dataset, DataLoader, random_split\n",
    "from transformers import AutoTokenizer, AutoModel\n",
    "from transformers.optimization import get_linear_schedule_with_warmup\n",
    "from scipy import stats\n",
    "from sklearn.metrics.pairwise import cosine_similarity\n",
    "import pandas as pd\n",
    "import numpy as np\n",
    "MAX_LENGTH=128\n",
    "DEVICE='cpu'\n",
    "final_dataset = pd.read_csv('final_dataset_homer.csv')\n",
    "base_answers = final_dataset['A']\n",
    "all_answers = list(set(base_answers)) # Список всех ответов из базы\n",
    "tokenizer = AutoTokenizer.from_pretrained(\"distilbert-base-uncased\")\n",
    "bert_model = AutoModel.from_pretrained(\"distilbert-base-uncased\")\n",
    "bert_model.from_pretrained(\"bi_encoder_homer\")\n",
    "\n",
    "class CrossEncoderBert(torch.nn.Module):\n",
    "    def __init__(self, max_length: int = MAX_LENGTH):\n",
    "        super().__init__()\n",
    "        self.max_length = max_length\n",
    "        self.bert_model = AutoModel.from_pretrained('distilbert-base-uncased')\n",
    "        self.bert_tokenizer = AutoTokenizer.from_pretrained('distilbert-base-uncased')\n",
    "        self.linear = torch.nn.Linear(self.bert_model.config.hidden_size, 1)\n",
    "\n",
    "    def forward(self, input_ids, attention_mask):\n",
    "        outputs = self.bert_model(input_ids=input_ids, attention_mask=attention_mask)\n",
    "        pooled_output = outputs.last_hidden_state[:, 0]  # Use the CLS token's output\n",
    "        return self.linear(pooled_output)\n",
    "model = CrossEncoderBert().to(DEVICE)\n",
    "model.bert_model.from_pretrained(\"cross_encoder_homer\")\n",
    "\n",
    "def get_answear(\n",
    "    tokenizer, finetuned_ce, base_bert, query, context, corpus,\n",
    "    size_patch=150, qty_rand_choose=4, max_out_context=200\n",
    "):\n",
    "\n",
    "    # Создаем словарь для хранения оценок и ответов\n",
    "    dic_answear = {\"score\": [], \"answer\": []}\n",
    "\n",
    "    # Объединяем запрос и контекст памяти\n",
    "    context_memory = query + \"[SEP]\" + context\n",
    "\n",
    "    # Ограничиваем количество случайно выбираемых ответов\n",
    "    if len(corpus) < qty_rand_choose * max_out_context:\n",
    "        qty_rand_choose = int(len(corpus))\n",
    "\n",
    "    # Поскольку база большая, проводим несколько выборов случайных ответов\n",
    "    for i in range(qty_rand_choose):\n",
    "        rand_patch_corpus = list(np.random.choice(corpus, size_patch))\n",
    "\n",
    "        # Токенизируем запросы и случайно выбранные ответы\n",
    "        queries = [context_memory] * len(rand_patch_corpus)\n",
    "        tokenized_texts = tokenizer(\n",
    "            queries, rand_patch_corpus, max_length=MAX_LENGTH, padding=True, truncation=True, return_tensors=\"pt\"\n",
    "        ).to(DEVICE)\n",
    "\n",
    "        # Оцениваем модель Finetuned CrossEncoder\n",
    "        with torch.no_grad():\n",
    "            ce_scores = finetuned_ce(tokenized_texts['input_ids'], tokenized_texts['attention_mask']).squeeze(-1)\n",
    "            ce_scores = torch.sigmoid(ce_scores)  # Применяем сигмоиду при необходимости\n",
    "\n",
    "        # Обрабатываем оценки для модели Finetuned\n",
    "        scores = ce_scores.cpu().numpy()\n",
    "        scores_ix = np.argsort(scores)[::-1][0]\n",
    "        dic_answear[\"score\"].append(scores[scores_ix])\n",
    "        dic_answear[\"answer\"].append(rand_patch_corpus[scores_ix])\n",
    "\n",
    "    # Находим наилучший ответ и его оценку\n",
    "    best_answer_index = np.argsort(dic_answear[\"score\"])[::-1][0]\n",
    "    best_answer = dic_answear[\"answer\"][best_answer_index]\n",
    "\n",
    "    # Обновляем контекст памяти\n",
    "    conext_memory = best_answer + \"[SEP]\" + context_memory\n",
    "    return best_answer, conext_memory[:max_out_context]\n",
    "\n",
    "def answer(question, context):\n",
    "    answer,_,_ = get_best_rand_reply(\n",
    "                tokenizer, model, bert_model.to(DEVICE),\n",
    "                query = question,\n",
    "                context = context,\n",
    "                corpus = all_answers)\n",
    "    return answer\n",
    "# question = \"I'm glad I'm not crying because\"  #\n",
    "# print(f\"Реплика: {question}\")\n",
    "# best_answer, conext_memory,  best_score = get_best_rand_reply(\n",
    "#     tokenizer, model, bert_model.to(DEVICE),\n",
    "#     query = question,\n",
    "#     context = \"Marg is angry\",\n",
    "#     corpus = all_answers)\n",
    "\n",
    "# print(f\"Лучший ответ: {best_answer}\\nscore {best_score}\") "
   ]
  },
  {
   "cell_type": "code",
   "execution_count": 5,
   "id": "1b559538",
   "metadata": {},
   "outputs": [
    {
     "name": "stdout",
     "output_type": "stream",
     "text": [
      "Реплика: Homer\n",
      "Лучший ответ: Wake up everybody! It's World War Three! Quick, down to the fallout shelter! The bombs are dropping! Eighteen seconds, hmph. If this were really a nuclear war, we'd all be dead meat by now. Say, you're all shivering. Are you cold or what? Bart! Bart! Time for your Sunday night bath, boy!\n"
     ]
    }
   ],
   "source": [
    "question = \"Homer\"  #\n",
    "print(f\"Реплика: {question}\")\n",
    "best_answer, conext_memory= get_answear(\n",
    "     tokenizer, model, bert_model.to(DEVICE),\n",
    "     query = question,\n",
    "     context = \"Marg is angry\",\n",
    "     corpus = all_answers)\n",
    "\n",
    "print(f\"Лучший ответ: {best_answer}\") "
   ]
  },
  {
   "cell_type": "code",
   "execution_count": 6,
   "id": "bc323969",
   "metadata": {},
   "outputs": [
    {
     "name": "stdout",
     "output_type": "stream",
     "text": [
      "Реплика: Homer? Are you craze?\n",
      "Лучший ответ: Bart, you can find them by smell! That's amazing! Restaurateurs use highly-trained pigs to sniff these out.\n"
     ]
    }
   ],
   "source": [
    "question = \"Homer? Are you craze?\"  #\n",
    "print(f\"Реплика: {question}\")\n",
    "best_answer, conext_memory= get_answear(\n",
    "     tokenizer, model, bert_model.to(DEVICE),\n",
    "     query = question,\n",
    "     context = \"Marg is angry\",\n",
    "     corpus = all_answers)\n",
    "\n",
    "print(f\"Лучший ответ: {best_answer}\") "
   ]
  },
  {
   "cell_type": "code",
   "execution_count": null,
   "id": "9487d640",
   "metadata": {},
   "outputs": [],
   "source": []
  }
 ],
 "metadata": {
  "kernelspec": {
   "display_name": "Python 3 (ipykernel)",
   "language": "python",
   "name": "python3"
  },
  "language_info": {
   "codemirror_mode": {
    "name": "ipython",
    "version": 3
   },
   "file_extension": ".py",
   "mimetype": "text/x-python",
   "name": "python",
   "nbconvert_exporter": "python",
   "pygments_lexer": "ipython3",
   "version": "3.11.5"
  }
 },
 "nbformat": 4,
 "nbformat_minor": 5
}
